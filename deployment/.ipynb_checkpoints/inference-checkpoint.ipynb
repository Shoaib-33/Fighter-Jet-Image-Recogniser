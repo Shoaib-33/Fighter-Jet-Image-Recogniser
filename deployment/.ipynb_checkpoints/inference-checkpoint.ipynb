{
 "cells": [
  {
   "cell_type": "markdown",
   "metadata": {
    "id": "5Ntsgt459Hg-"
   },
   "source": [
    "\n",
    "# Fighter Jet recognizer\n",
    "The goal of this project is to classify 20 different types of caps / headwears commonly worn around the world. The types are following: <br/>\n",
    "1. General Dynamics F-16 Fighting Falcon aircraft\n",
    "2. Mikoyan MiG-29\n",
    "3. Dassault Rafale\n",
    "4. Lockheed Martin F-22 Raptor\n",
    "5. Mikoyan Mig-31\n",
    "6. Mikoyan Mig-29\n",
    "7. Sukhoi Su-27\n",
    "8. Lockheed Martin F-35 Lightning II\n",
    "9. Chengdu J-20 Mighty Dragon \n",
    "10. KAI KF-21 Boramae\n",
    "11. Sukhoi Su-57\n",
    "12. Shenyang FC-31 Gyrfalcon\n",
    "13. Boeing F-15EX Eagle II\n",
    "14. Eurofighter Typhoon\n",
    "15. AIDC F-CK-1 Ching-kuo\n",
    "16. Lockheed YF-12\n",
    "17. Mikoyan MiG-31\n",
    "18. McDonnell Douglas F-4 Phantom II\n",
    "19. Grumman F-14 Tomcat\n",
    "20. English Electric Lightning\n",
    "21. Focke-Wulf Fw 190\n",
    "22. Mikoyan-Gurevich MiG-25\n",
    "23. Lockheed P-80 Shooting Star\n",
    "24. Sukhoi Su-34\n",
    "25. Chengdu J-20 (China)\n",
    "26. Sukhoi Su-57 (Russia)\n",
    "27. Sukhoi Su-35 (Russia)\n",
    "28. Chengdu J-10 (China)\n",
    "29. Mikoyan MiG-35 (Russia)\n",
    "30. Mikoyan MiG-31 (Russia)"
   ]
  },
  {
   "cell_type": "markdown",
   "metadata": {
    "id": "UArt_Pfd98s0"
   },
   "source": [
    "# Setting Up for Inference"
   ]
  },
  {
   "cell_type": "code",
   "execution_count": 1,
   "metadata": {
    "executionInfo": {
     "elapsed": 3960,
     "status": "ok",
     "timestamp": 1672932555312,
     "user": {
      "displayName": "MSI",
      "userId": "13207606968035913219"
     },
     "user_tz": -360
    },
    "id": "5WqJCIW59Qsi"
   },
   "outputs": [],
   "source": [
    "!pip install -Uqq fastai"
   ]
  },
  {
   "cell_type": "code",
   "execution_count": 1,
   "metadata": {
    "executionInfo": {
     "elapsed": 5674,
     "status": "ok",
     "timestamp": 1672932560969,
     "user": {
      "displayName": "MSI",
      "userId": "13207606968035913219"
     },
     "user_tz": -360
    },
    "id": "7WWuAuRB9D41"
   },
   "outputs": [],
   "source": [
    "from fastai.vision.all import *"
   ]
  },
  {
   "cell_type": "code",
   "execution_count": 3,
   "metadata": {
    "colab": {
     "base_uri": "https://localhost:8080/"
    },
    "executionInfo": {
     "elapsed": 32800,
     "status": "ok",
     "timestamp": 1672932593737,
     "user": {
      "displayName": "MSI",
      "userId": "13207606968035913219"
     },
     "user_tz": -360
    },
    "id": "jguZGJfe9XiU",
    "outputId": "3ff9dcbe-795a-4eb7-c437-3f743c6cdbee"
   },
   "outputs": [
    {
     "name": "stdout",
     "output_type": "stream",
     "text": [
      "Mounted at /content/drive\n"
     ]
    }
   ],
   "source": [
    "from google.colab import drive\n",
    "drive.mount('/content/drive')"
   ]
  },
  {
   "cell_type": "code",
   "execution_count": 4,
   "metadata": {
    "colab": {
     "base_uri": "https://localhost:8080/"
    },
    "executionInfo": {
     "elapsed": 19,
     "status": "ok",
     "timestamp": 1672932593738,
     "user": {
      "displayName": "MSI",
      "userId": "13207606968035913219"
     },
     "user_tz": -360
    },
    "id": "0RukwN_X9VVs",
    "outputId": "108289a5-1cce-4332-c556-b6f25edd3749"
   },
   "outputs": [
    {
     "name": "stdout",
     "output_type": "stream",
     "text": [
      "/content/drive/My Drive/MasterCourse/Cap Recognizer\n"
     ]
    }
   ],
   "source": [
    "%cd /content/drive/My Drive/MasterCourse/Cap Recognizer"
   ]
  },
  {
   "cell_type": "code",
   "execution_count": 2,
   "metadata": {
    "executionInfo": {
     "elapsed": 683,
     "status": "ok",
     "timestamp": 1672933418258,
     "user": {
      "displayName": "MSI",
      "userId": "13207606968035913219"
     },
     "user_tz": -360
    },
    "id": "07_0AQim9Srs"
   },
   "outputs": [],
   "source": [
    "version = 2\n",
    "img_path = 'aircraft'\n",
    "model_path = f'models/latest.pkl'"
   ]
  },
  {
   "cell_type": "code",
   "execution_count": 3,
   "metadata": {
    "executionInfo": {
     "elapsed": 8092,
     "status": "ok",
     "timestamp": 1672933426347,
     "user": {
      "displayName": "MSI",
      "userId": "13207606968035913219"
     },
     "user_tz": -360
    },
    "id": "TnH9iP5T9qvs"
   },
   "outputs": [],
   "source": [
    "model = load_learner(model_path)"
   ]
  },
  {
   "cell_type": "markdown",
   "metadata": {
    "id": "dZ6OKMmx98BF"
   },
   "source": [
    "# Inference 1\n",
    "\n",
    "**Target:** Mig-35"
   ]
  },
  {
   "cell_type": "code",
   "execution_count": 9,
   "metadata": {
    "colab": {
     "base_uri": "https://localhost:8080/",
     "height": 102
    },
    "executionInfo": {
     "elapsed": 48,
     "status": "ok",
     "timestamp": 1672933426348,
     "user": {
      "displayName": "MSI",
      "userId": "13207606968035913219"
     },
     "user_tz": -360
    },
    "id": "5JReTN2L9wBm",
    "outputId": "933a8339-d925-4fc2-9c4d-064e6f6234d7"
   },
   "outputs": [
    {
     "data": {
      "image/png": "[encoded data removed]",
      "text/plain": [
       "<PIL.Image.Image image mode=RGB size=128x74>"
      ]
     },
     "execution_count": 9,
     "metadata": {},
     "output_type": "execute_result"
    }
   ],
   "source": [
    "img = Image.open(f'mig.jpg')\n",
    "img.to_thumb(128,128)"
   ]
  },
  {
   "cell_type": "code",
   "execution_count": 11,
   "metadata": {
    "colab": {
     "base_uri": "https://localhost:8080/",
     "height": 121
    },
    "executionInfo": {
     "elapsed": 43,
     "status": "ok",
     "timestamp": 1672933426348,
     "user": {
      "displayName": "MSI",
      "userId": "13207606968035913219"
     },
     "user_tz": -360
    },
    "id": "9BLqvkxd-DxA",
    "outputId": "61d04dda-1440-4585-b8dd-d00ae1764917"
   },
   "outputs": [
    {
     "data": {
      "text/html": [
       "\n",
       "<style>\n",
       "    /* Turns off some styling */\n",
       "    progress {\n",
       "        /* gets rid of default border in Firefox and Opera. */\n",
       "        border: none;\n",
       "        /* Needs to be in here for Safari polyfill so background images work as expected. */\n",
       "        background-size: auto;\n",
       "    }\n",
       "    progress:not([value]), progress:not([value])::-webkit-progress-bar {\n",
       "        background: repeating-linear-gradient(45deg, #7e7e7e, #7e7e7e 10px, #5c5c5c 10px, #5c5c5c 20px);\n",
       "    }\n",
       "    .progress-bar-interrupted, .progress-bar-interrupted::-webkit-progress-bar {\n",
       "        background: #F44336;\n",
       "    }\n",
       "</style>\n"
      ],
      "text/plain": [
       "<IPython.core.display.HTML object>"
      ]
     },
     "metadata": {},
     "output_type": "display_data"
    },
    {
     "data": {
      "text/html": [],
      "text/plain": [
       "<IPython.core.display.HTML object>"
      ]
     },
     "metadata": {},
     "output_type": "display_data"
    },
    {
     "data": {
      "text/plain": [
       "('Sukhoi Su-57',\n",
       " tensor(19),\n",
       " tensor([4.4258e-03, 1.1149e-05, 1.7537e-03, 1.7420e-03, 1.9305e-03, 5.6987e-04,\n",
       "         1.3127e-06, 4.4935e-05, 1.8435e-03, 2.4377e-05, 1.3695e-04, 9.5916e-06,\n",
       "         5.1719e-05, 3.5083e-06, 2.7594e-04, 4.7297e-06, 1.5089e-05, 2.2763e-04,\n",
       "         5.2591e-02, 9.3434e-01]))"
      ]
     },
     "execution_count": 11,
     "metadata": {},
     "output_type": "execute_result"
    }
   ],
   "source": [
    "model.predict(f'su57.jpg')"
   ]
  },
  {
   "cell_type": "markdown",
   "metadata": {
    "id": "J2fpSrEU-PKD"
   },
   "source": [
    "# Inference 2\n",
    "\n",
    "**Target:** beanie cap"
   ]
  },
  {
   "cell_type": "code",
   "execution_count": 10,
   "metadata": {
    "colab": {
     "base_uri": "https://localhost:8080/",
     "height": 145
    },
    "executionInfo": {
     "elapsed": 40,
     "status": "ok",
     "timestamp": 1672933426349,
     "user": {
      "displayName": "MSI",
      "userId": "13207606968035913219"
     },
     "user_tz": -360
    },
    "id": "hS5MOe4m-Q6r",
    "outputId": "edf926f3-1344-49c0-e96d-2c803575911f"
   },
   "outputs": [
    {
     "data": {
      "image/png": "[encoded data removed]",
      "text/plain": [
       "<PIL.Image.Image image mode=RGB size=98x128>"
      ]
     },
     "execution_count": 10,
     "metadata": {},
     "output_type": "execute_result"
    }
   ],
   "source": [
    "img = Image.open(f'{img_path}/unknown_01.jpg')\n",
    "img.to_thumb(128,128)"
   ]
  },
  {
   "cell_type": "code",
   "execution_count": 11,
   "metadata": {
    "colab": {
     "base_uri": "https://localhost:8080/",
     "height": 121
    },
    "executionInfo": {
     "elapsed": 38,
     "status": "ok",
     "timestamp": 1672933426349,
     "user": {
      "displayName": "MSI",
      "userId": "13207606968035913219"
     },
     "user_tz": -360
    },
    "id": "kmql0BII-SyY",
    "outputId": "da2b8d15-2135-4794-a401-3ca1e056b356"
   },
   "outputs": [
    {
     "data": {
      "text/html": [
       "\n",
       "<style>\n",
       "    /* Turns off some styling */\n",
       "    progress {\n",
       "        /* gets rid of default border in Firefox and Opera. */\n",
       "        border: none;\n",
       "        /* Needs to be in here for Safari polyfill so background images work as expected. */\n",
       "        background-size: auto;\n",
       "    }\n",
       "    progress:not([value]), progress:not([value])::-webkit-progress-bar {\n",
       "        background: repeating-linear-gradient(45deg, #7e7e7e, #7e7e7e 10px, #5c5c5c 10px, #5c5c5c 20px);\n",
       "    }\n",
       "    .progress-bar-interrupted, .progress-bar-interrupted::-webkit-progress-bar {\n",
       "        background: #F44336;\n",
       "    }\n",
       "</style>\n"
      ],
      "text/plain": [
       "<IPython.core.display.HTML object>"
      ]
     },
     "metadata": {},
     "output_type": "display_data"
    },
    {
     "data": {
      "text/html": [],
      "text/plain": [
       "<IPython.core.display.HTML object>"
      ]
     },
     "metadata": {},
     "output_type": "display_data"
    },
    {
     "data": {
      "text/plain": [
       "('beanie cap',\n",
       " TensorBase(2),\n",
       " TensorBase([9.1299e-07, 7.9178e-07, 9.9963e-01, 4.5151e-08, 1.4612e-07,\n",
       "             1.2038e-05, 9.1831e-09, 1.8981e-07, 2.1134e-07, 2.7847e-07,\n",
       "             1.9275e-06, 1.0377e-05, 6.1761e-07, 2.6402e-06, 8.4717e-08,\n",
       "             1.4929e-05, 6.6263e-08, 2.2952e-07, 3.9482e-05, 2.8860e-04]))"
      ]
     },
     "execution_count": 11,
     "metadata": {},
     "output_type": "execute_result"
    }
   ],
   "source": [
    "model.predict(f'{img_path}/unknown_01.jpg')"
   ]
  },
  {
   "cell_type": "markdown",
   "metadata": {
    "id": "ydjMUfaYSq2z"
   },
   "source": [
    "# Inference 3\n",
    "**Target:** taqiyah cap"
   ]
  },
  {
   "cell_type": "code",
   "execution_count": 12,
   "metadata": {
    "colab": {
     "base_uri": "https://localhost:8080/",
     "height": 145
    },
    "executionInfo": {
     "elapsed": 36,
     "status": "ok",
     "timestamp": 1672933426350,
     "user": {
      "displayName": "MSI",
      "userId": "13207606968035913219"
     },
     "user_tz": -360
    },
    "id": "48eESo59S1Bi",
    "outputId": "1138f84a-70cb-4f5e-f56f-bc83743a7f39"
   },
   "outputs": [
    {
     "data": {
      "image/png": "[encoded data removed]",
      "text/plain": [
       "<PIL.Image.Image image mode=RGB size=128x128>"
      ]
     },
     "execution_count": 12,
     "metadata": {},
     "output_type": "execute_result"
    }
   ],
   "source": [
    "img = Image.open(f'{img_path}/unknown_02.jpg')\n",
    "img.to_thumb(128,128)"
   ]
  },
  {
   "cell_type": "code",
   "execution_count": 13,
   "metadata": {
    "colab": {
     "base_uri": "https://localhost:8080/",
     "height": 121
    },
    "executionInfo": {
     "elapsed": 35,
     "status": "ok",
     "timestamp": 1672933426351,
     "user": {
      "displayName": "MSI",
      "userId": "13207606968035913219"
     },
     "user_tz": -360
    },
    "id": "CMBpIj4vS3IJ",
    "outputId": "6025e9e4-e093-4277-9427-65567de0f0ee"
   },
   "outputs": [
    {
     "data": {
      "text/html": [
       "\n",
       "<style>\n",
       "    /* Turns off some styling */\n",
       "    progress {\n",
       "        /* gets rid of default border in Firefox and Opera. */\n",
       "        border: none;\n",
       "        /* Needs to be in here for Safari polyfill so background images work as expected. */\n",
       "        background-size: auto;\n",
       "    }\n",
       "    progress:not([value]), progress:not([value])::-webkit-progress-bar {\n",
       "        background: repeating-linear-gradient(45deg, #7e7e7e, #7e7e7e 10px, #5c5c5c 10px, #5c5c5c 20px);\n",
       "    }\n",
       "    .progress-bar-interrupted, .progress-bar-interrupted::-webkit-progress-bar {\n",
       "        background: #F44336;\n",
       "    }\n",
       "</style>\n"
      ],
      "text/plain": [
       "<IPython.core.display.HTML object>"
      ]
     },
     "metadata": {},
     "output_type": "display_data"
    },
    {
     "data": {
      "text/html": [],
      "text/plain": [
       "<IPython.core.display.HTML object>"
      ]
     },
     "metadata": {},
     "output_type": "display_data"
    },
    {
     "data": {
      "text/plain": [
       "('taqiyah cap',\n",
       " TensorBase(15),\n",
       " TensorBase([1.1208e-04, 7.0788e-05, 2.5876e-02, 1.2034e-04, 5.5366e-04,\n",
       "             7.2485e-05, 3.1390e-04, 2.3621e-05, 6.5949e-04, 2.0696e-03,\n",
       "             6.5902e-04, 1.3941e-03, 5.1533e-04, 2.1951e-03, 1.5820e-04,\n",
       "             8.7137e-01, 6.9750e-04, 2.7463e-04, 9.0654e-02, 2.2072e-03]))"
      ]
     },
     "execution_count": 13,
     "metadata": {},
     "output_type": "execute_result"
    }
   ],
   "source": [
    "model.predict(f'{img_path}/unknown_02.jpg')"
   ]
  },
  {
   "cell_type": "markdown",
   "metadata": {
    "id": "9bBvk7dPTRKS"
   },
   "source": [
    "# Inference 4\n",
    "**Target:** boater hat"
   ]
  },
  {
   "cell_type": "code",
   "execution_count": 14,
   "metadata": {
    "colab": {
     "base_uri": "https://localhost:8080/",
     "height": 89
    },
    "executionInfo": {
     "elapsed": 33,
     "status": "ok",
     "timestamp": 1672933426351,
     "user": {
      "displayName": "MSI",
      "userId": "13207606968035913219"
     },
     "user_tz": -360
    },
    "id": "OB_w4TaUTUOa",
    "outputId": "e53e9037-1a26-47fc-8826-8e74f17d43b3"
   },
   "outputs": [
    {
     "data": {
      "image/png": "[encoded data removed]",
      "text/plain": [
       "<PIL.Image.Image image mode=RGB size=128x72>"
      ]
     },
     "execution_count": 14,
     "metadata": {},
     "output_type": "execute_result"
    }
   ],
   "source": [
    "img = Image.open(f'{img_path}/unknown_03.jpg')\n",
    "img.to_thumb(128,128)"
   ]
  },
  {
   "cell_type": "code",
   "execution_count": 15,
   "metadata": {
    "colab": {
     "base_uri": "https://localhost:8080/",
     "height": 121
    },
    "executionInfo": {
     "elapsed": 33,
     "status": "ok",
     "timestamp": 1672933426352,
     "user": {
      "displayName": "MSI",
      "userId": "13207606968035913219"
     },
     "user_tz": -360
    },
    "id": "Qblxq0aATduB",
    "outputId": "5b521b03-91df-4ebb-9a1a-c25d061953a1"
   },
   "outputs": [
    {
     "data": {
      "text/html": [
       "\n",
       "<style>\n",
       "    /* Turns off some styling */\n",
       "    progress {\n",
       "        /* gets rid of default border in Firefox and Opera. */\n",
       "        border: none;\n",
       "        /* Needs to be in here for Safari polyfill so background images work as expected. */\n",
       "        background-size: auto;\n",
       "    }\n",
       "    progress:not([value]), progress:not([value])::-webkit-progress-bar {\n",
       "        background: repeating-linear-gradient(45deg, #7e7e7e, #7e7e7e 10px, #5c5c5c 10px, #5c5c5c 20px);\n",
       "    }\n",
       "    .progress-bar-interrupted, .progress-bar-interrupted::-webkit-progress-bar {\n",
       "        background: #F44336;\n",
       "    }\n",
       "</style>\n"
      ],
      "text/plain": [
       "<IPython.core.display.HTML object>"
      ]
     },
     "metadata": {},
     "output_type": "display_data"
    },
    {
     "data": {
      "text/html": [],
      "text/plain": [
       "<IPython.core.display.HTML object>"
      ]
     },
     "metadata": {},
     "output_type": "display_data"
    },
    {
     "data": {
      "text/plain": [
       "('boater hat',\n",
       " TensorBase(3),\n",
       " TensorBase([1.5813e-08, 1.2738e-08, 7.8042e-09, 9.9306e-01, 3.6558e-03,\n",
       "             1.8628e-07, 1.2122e-06, 1.1540e-03, 9.3898e-08, 6.4894e-07,\n",
       "             1.0469e-06, 1.6167e-07, 3.7960e-05, 2.1897e-08, 2.9156e-06,\n",
       "             2.1854e-06, 2.0697e-03, 5.5055e-09, 1.3478e-05, 2.1866e-06]))"
      ]
     },
     "execution_count": 15,
     "metadata": {},
     "output_type": "execute_result"
    }
   ],
   "source": [
    "model.predict(f'{img_path}/unknown_03.jpg')"
   ]
  }
 ],
 "metadata": {
  "colab": {
   "authorship_tag": "ABX9TyP8qU/UwCTL5O4nRhyY2Ie5",
   "provenance": []
  },
  "kernelspec": {
   "display_name": "Python 3 (ipykernel)",
   "language": "python",
   "name": "python3"
  },
  "language_info": {
   "codemirror_mode": {
    "name": "ipython",
    "version": 3
   },
   "file_extension": ".py",
   "mimetype": "text/x-python",
   "name": "python",
   "nbconvert_exporter": "python",
   "pygments_lexer": "ipython3",
   "version": "3.9.16"
  }
 },
 "nbformat": 4,
 "nbformat_minor": 1
}
