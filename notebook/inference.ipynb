{
 "cells": [
  {
   "cell_type": "markdown",
   "metadata": {
    "id": "5Ntsgt459Hg-"
   },
   "source": [
    "\n",
    "# Fighter Jet recognizer\n",
    "The goal of this project is to classify 26 different types of Fighter Aircrafts around the world. The types are following: <br/>\n",
    "1. General Dynamics F-16 Fighting Falcon aircraft\n",
    "2. Mikoyan MiG-29\n",
    "3. Dassault Rafale\n",
    "4. Lockheed Martin F-22 Raptor\n",
    "5. Mikoyan Mig-31\n",
    "6. Sukhoi Su-27\n",
    "7. Lockheed Martin F-35 Lightning II\n",
    "8. KAI KF-21 Boramae\n",
    "9. Sukhoi Su-57\n",
    "10. Shenyang FC-31 Gyrfalcon\n",
    "11. Boeing F-15EX Eagle II\n",
    "12. Eurofighter Typhoon\n",
    "13. AIDC F-CK-1 Ching-kuo\n",
    "14. Lockheed YF-12\n",
    "15. Mikoyan MiG-31\n",
    "16. McDonnell Douglas F-4 Phantom II\n",
    "17. Grumman F-14 Tomcat\n",
    "18. English Electric Lightning\n",
    "19. Focke-Wulf Fw 190\n",
    "20. Mikoyan-Gurevich MiG-25\n",
    "21. Lockheed P-80 Shooting Star\n",
    "22. Sukhoi Su-34\n",
    "23. Chengdu J-20\n",
    "24. Sukhoi Su-35\n",
    "25. Chengdu J-10\n",
    "26. Mikoyan MiG-35"
   ]
  },
  {
   "cell_type": "markdown",
   "metadata": {
    "id": "UArt_Pfd98s0"
   },
   "source": [
    "# Setting Up for Inference"
   ]
  },
  {
   "cell_type": "code",
   "execution_count": 1,
   "metadata": {
    "executionInfo": {
     "elapsed": 3960,
     "status": "ok",
     "timestamp": 1672932555312,
     "user": {
      "displayName": "MSI",
      "userId": "13207606968035913219"
     },
     "user_tz": -360
    },
    "id": "5WqJCIW59Qsi"
   },
   "outputs": [],
   "source": [
    "!pip install -Uqq fastai"
   ]
  },
  {
   "cell_type": "code",
   "execution_count": 1,
   "metadata": {
    "executionInfo": {
     "elapsed": 5674,
     "status": "ok",
     "timestamp": 1672932560969,
     "user": {
      "displayName": "MSI",
      "userId": "13207606968035913219"
     },
     "user_tz": -360
    },
    "id": "7WWuAuRB9D41"
   },
   "outputs": [],
   "source": [
    "from fastai.vision.all import *"
   ]
  },
  {
   "cell_type": "code",
   "execution_count": null,
   "metadata": {
    "colab": {
     "base_uri": "https://localhost:8080/"
    },
    "executionInfo": {
     "elapsed": 32800,
     "status": "ok",
     "timestamp": 1672932593737,
     "user": {
      "displayName": "MSI",
      "userId": "13207606968035913219"
     },
     "user_tz": -360
    },
    "id": "jguZGJfe9XiU",
    "outputId": "3ff9dcbe-795a-4eb7-c437-3f743c6cdbee"
   },
   "outputs": [],
   "source": []
  },
  {
   "cell_type": "code",
   "execution_count": null,
   "metadata": {
    "colab": {
     "base_uri": "https://localhost:8080/"
    },
    "executionInfo": {
     "elapsed": 19,
     "status": "ok",
     "timestamp": 1672932593738,
     "user": {
      "displayName": "MSI",
      "userId": "13207606968035913219"
     },
     "user_tz": -360
    },
    "id": "0RukwN_X9VVs",
    "outputId": "108289a5-1cce-4332-c556-b6f25edd3749"
   },
   "outputs": [],
   "source": []
  },
  {
   "cell_type": "code",
   "execution_count": 11,
   "metadata": {
    "executionInfo": {
     "elapsed": 683,
     "status": "ok",
     "timestamp": 1672933418258,
     "user": {
      "displayName": "MSI",
      "userId": "13207606968035913219"
     },
     "user_tz": -360
    },
    "id": "07_0AQim9Srs"
   },
   "outputs": [],
   "source": [
    "\n",
    "img_path = 'aircraft'\n",
    "model_path = f'models/latest.pkl'"
   ]
  },
  {
   "cell_type": "code",
   "execution_count": 12,
   "metadata": {
    "executionInfo": {
     "elapsed": 8092,
     "status": "ok",
     "timestamp": 1672933426347,
     "user": {
      "displayName": "MSI",
      "userId": "13207606968035913219"
     },
     "user_tz": -360
    },
    "id": "TnH9iP5T9qvs"
   },
   "outputs": [],
   "source": [
    "model = load_learner(model_path)"
   ]
  },
  {
   "cell_type": "markdown",
   "metadata": {
    "id": "dZ6OKMmx98BF"
   },
   "source": [
    "# Inference 1\n",
    "\n",
    "**Target:** Sukhoi su-57"
   ]
  },
  {
   "cell_type": "code",
   "execution_count": 26,
   "metadata": {
    "colab": {
     "base_uri": "https://localhost:8080/",
     "height": 102
    },
    "executionInfo": {
     "elapsed": 48,
     "status": "ok",
     "timestamp": 1672933426348,
     "user": {
      "displayName": "MSI",
      "userId": "13207606968035913219"
     },
     "user_tz": -360
    },
    "id": "5JReTN2L9wBm",
    "outputId": "933a8339-d925-4fc2-9c4d-064e6f6234d7"
   },
   "outputs": [
    {
     "data": {
      "image/png": "[encoded data removed]",
      "text/plain": [
       "<PIL.Image.Image image mode=RGB size=128x73>"
      ]
     },
     "execution_count": 26,
     "metadata": {},
     "output_type": "execute_result"
    }
   ],
   "source": [
    "img = Image.open(f'images/su57.jpg')\n",
    "img.to_thumb(128,128)"
   ]
  },
  {
   "cell_type": "code",
   "execution_count": 27,
   "metadata": {
    "colab": {
     "base_uri": "https://localhost:8080/",
     "height": 121
    },
    "executionInfo": {
     "elapsed": 43,
     "status": "ok",
     "timestamp": 1672933426348,
     "user": {
      "displayName": "MSI",
      "userId": "13207606968035913219"
     },
     "user_tz": -360
    },
    "id": "9BLqvkxd-DxA",
    "outputId": "61d04dda-1440-4585-b8dd-d00ae1764917"
   },
   "outputs": [
    {
     "data": {
      "text/html": [
       "\n",
       "<style>\n",
       "    /* Turns off some styling */\n",
       "    progress {\n",
       "        /* gets rid of default border in Firefox and Opera. */\n",
       "        border: none;\n",
       "        /* Needs to be in here for Safari polyfill so background images work as expected. */\n",
       "        background-size: auto;\n",
       "    }\n",
       "    progress:not([value]), progress:not([value])::-webkit-progress-bar {\n",
       "        background: repeating-linear-gradient(45deg, #7e7e7e, #7e7e7e 10px, #5c5c5c 10px, #5c5c5c 20px);\n",
       "    }\n",
       "    .progress-bar-interrupted, .progress-bar-interrupted::-webkit-progress-bar {\n",
       "        background: #F44336;\n",
       "    }\n",
       "</style>\n"
      ],
      "text/plain": [
       "<IPython.core.display.HTML object>"
      ]
     },
     "metadata": {},
     "output_type": "display_data"
    },
    {
     "data": {
      "text/html": [],
      "text/plain": [
       "<IPython.core.display.HTML object>"
      ]
     },
     "metadata": {},
     "output_type": "display_data"
    },
    {
     "data": {
      "text/plain": [
       "('Sukhoi Su-57',\n",
       " tensor(22),\n",
       " tensor([1.0401e-03, 1.0023e-05, 9.5968e-07, 3.9241e-05, 2.3738e-05, 5.5392e-05,\n",
       "         2.1759e-04, 2.4036e-06, 6.6736e-07, 1.1900e-05, 1.3908e-04, 7.7551e-06,\n",
       "         2.8711e-05, 6.1165e-07, 4.5989e-05, 2.5119e-05, 7.0330e-05, 8.8061e-05,\n",
       "         2.9919e-05, 5.8294e-05, 3.5826e-05, 7.5967e-04, 9.9731e-01]))"
      ]
     },
     "execution_count": 27,
     "metadata": {},
     "output_type": "execute_result"
    }
   ],
   "source": [
    "model.predict(f'images/su57.jpg')"
   ]
  },
  {
   "cell_type": "markdown",
   "metadata": {
    "id": "J2fpSrEU-PKD"
   },
   "source": [
    "# Inference 2\n",
    "\n",
    "**Target:** Eurofighter Typhoon"
   ]
  },
  {
   "cell_type": "code",
   "execution_count": 28,
   "metadata": {
    "colab": {
     "base_uri": "https://localhost:8080/",
     "height": 145
    },
    "executionInfo": {
     "elapsed": 40,
     "status": "ok",
     "timestamp": 1672933426349,
     "user": {
      "displayName": "MSI",
      "userId": "13207606968035913219"
     },
     "user_tz": -360
    },
    "id": "hS5MOe4m-Q6r",
    "outputId": "edf926f3-1344-49c0-e96d-2c803575911f"
   },
   "outputs": [
    {
     "data": {
      "image/png": "[encoded data removed]",
      "text/plain": [
       "<PIL.Image.Image image mode=RGB size=128x84>"
      ]
     },
     "execution_count": 28,
     "metadata": {},
     "output_type": "execute_result"
    }
   ],
   "source": [
    "img = Image.open(f'images/euro.jpg')\n",
    "img.to_thumb(128,128)"
   ]
  },
  {
   "cell_type": "code",
   "execution_count": 29,
   "metadata": {
    "colab": {
     "base_uri": "https://localhost:8080/",
     "height": 121
    },
    "executionInfo": {
     "elapsed": 38,
     "status": "ok",
     "timestamp": 1672933426349,
     "user": {
      "displayName": "MSI",
      "userId": "13207606968035913219"
     },
     "user_tz": -360
    },
    "id": "kmql0BII-SyY",
    "outputId": "da2b8d15-2135-4794-a401-3ca1e056b356"
   },
   "outputs": [
    {
     "data": {
      "text/html": [
       "\n",
       "<style>\n",
       "    /* Turns off some styling */\n",
       "    progress {\n",
       "        /* gets rid of default border in Firefox and Opera. */\n",
       "        border: none;\n",
       "        /* Needs to be in here for Safari polyfill so background images work as expected. */\n",
       "        background-size: auto;\n",
       "    }\n",
       "    progress:not([value]), progress:not([value])::-webkit-progress-bar {\n",
       "        background: repeating-linear-gradient(45deg, #7e7e7e, #7e7e7e 10px, #5c5c5c 10px, #5c5c5c 20px);\n",
       "    }\n",
       "    .progress-bar-interrupted, .progress-bar-interrupted::-webkit-progress-bar {\n",
       "        background: #F44336;\n",
       "    }\n",
       "</style>\n"
      ],
      "text/plain": [
       "<IPython.core.display.HTML object>"
      ]
     },
     "metadata": {},
     "output_type": "display_data"
    },
    {
     "data": {
      "text/html": [],
      "text/plain": [
       "<IPython.core.display.HTML object>"
      ]
     },
     "metadata": {},
     "output_type": "display_data"
    },
    {
     "data": {
      "text/plain": [
       "('Eurofighter Typhoon',\n",
       " tensor(6),\n",
       " tensor([8.4572e-10, 2.0694e-08, 2.9322e-09, 5.7334e-10, 1.5370e-06, 3.0893e-09,\n",
       "         1.0000e+00, 7.8677e-11, 6.1267e-09, 3.3492e-08, 2.0232e-08, 2.8139e-10,\n",
       "         5.0443e-09, 4.3750e-09, 1.0091e-06, 8.7442e-07, 1.0201e-07, 1.4723e-08,\n",
       "         9.3519e-08, 1.0451e-09, 2.1383e-11, 1.8905e-09, 1.9012e-08]))"
      ]
     },
     "execution_count": 29,
     "metadata": {},
     "output_type": "execute_result"
    }
   ],
   "source": [
    "model.predict(f'images/euro.jpg')"
   ]
  },
  {
   "cell_type": "markdown",
   "metadata": {
    "id": "ydjMUfaYSq2z"
   },
   "source": [
    "# Inference 3\n",
    "**Target:** General Dynamics F-16 Fighting Falcon aircraft"
   ]
  },
  {
   "cell_type": "code",
   "execution_count": 30,
   "metadata": {
    "colab": {
     "base_uri": "https://localhost:8080/",
     "height": 145
    },
    "executionInfo": {
     "elapsed": 36,
     "status": "ok",
     "timestamp": 1672933426350,
     "user": {
      "displayName": "MSI",
      "userId": "13207606968035913219"
     },
     "user_tz": -360
    },
    "id": "48eESo59S1Bi",
    "outputId": "1138f84a-70cb-4f5e-f56f-bc83743a7f39"
   },
   "outputs": [
    {
     "data": {
      "image/png": "[encoded data removed]",
      "text/plain": [
       "<PIL.Image.Image image mode=RGB size=128x80>"
      ]
     },
     "execution_count": 30,
     "metadata": {},
     "output_type": "execute_result"
    }
   ],
   "source": [
    "img = Image.open(f'images/F-16.jpg')\n",
    "img.to_thumb(128,128)"
   ]
  },
  {
   "cell_type": "code",
   "execution_count": 31,
   "metadata": {
    "colab": {
     "base_uri": "https://localhost:8080/",
     "height": 121
    },
    "executionInfo": {
     "elapsed": 35,
     "status": "ok",
     "timestamp": 1672933426351,
     "user": {
      "displayName": "MSI",
      "userId": "13207606968035913219"
     },
     "user_tz": -360
    },
    "id": "CMBpIj4vS3IJ",
    "outputId": "6025e9e4-e093-4277-9427-65567de0f0ee"
   },
   "outputs": [
    {
     "data": {
      "text/html": [
       "\n",
       "<style>\n",
       "    /* Turns off some styling */\n",
       "    progress {\n",
       "        /* gets rid of default border in Firefox and Opera. */\n",
       "        border: none;\n",
       "        /* Needs to be in here for Safari polyfill so background images work as expected. */\n",
       "        background-size: auto;\n",
       "    }\n",
       "    progress:not([value]), progress:not([value])::-webkit-progress-bar {\n",
       "        background: repeating-linear-gradient(45deg, #7e7e7e, #7e7e7e 10px, #5c5c5c 10px, #5c5c5c 20px);\n",
       "    }\n",
       "    .progress-bar-interrupted, .progress-bar-interrupted::-webkit-progress-bar {\n",
       "        background: #F44336;\n",
       "    }\n",
       "</style>\n"
      ],
      "text/plain": [
       "<IPython.core.display.HTML object>"
      ]
     },
     "metadata": {},
     "output_type": "display_data"
    },
    {
     "data": {
      "text/html": [],
      "text/plain": [
       "<IPython.core.display.HTML object>"
      ]
     },
     "metadata": {},
     "output_type": "display_data"
    },
    {
     "data": {
      "text/plain": [
       "('General Dynamics F-16 Fighting Falcon aircraft',\n",
       " tensor(8),\n",
       " tensor([1.7139e-06, 2.4262e-06, 3.2984e-08, 6.5319e-09, 9.7543e-07, 4.4657e-07,\n",
       "         6.9346e-07, 1.0632e-08, 9.9996e-01, 4.2782e-06, 3.3987e-06, 3.1003e-08,\n",
       "         2.5581e-06, 2.4977e-09, 1.1463e-05, 2.5348e-08, 1.1367e-08, 1.9110e-07,\n",
       "         3.9413e-08, 3.9537e-07, 8.6648e-07, 3.6077e-07, 6.2051e-06]))"
      ]
     },
     "execution_count": 31,
     "metadata": {},
     "output_type": "execute_result"
    }
   ],
   "source": [
    "model.predict(f'images/F-16.jpg')"
   ]
  },
  {
   "cell_type": "markdown",
   "metadata": {
    "id": "9bBvk7dPTRKS"
   },
   "source": [
    "# Inference 4\n",
    "**Target:** Mig-31"
   ]
  },
  {
   "cell_type": "code",
   "execution_count": 32,
   "metadata": {
    "colab": {
     "base_uri": "https://localhost:8080/",
     "height": 89
    },
    "executionInfo": {
     "elapsed": 33,
     "status": "ok",
     "timestamp": 1672933426351,
     "user": {
      "displayName": "MSI",
      "userId": "13207606968035913219"
     },
     "user_tz": -360
    },
    "id": "OB_w4TaUTUOa",
    "outputId": "e53e9037-1a26-47fc-8826-8e74f17d43b3"
   },
   "outputs": [
    {
     "data": {
      "image/png": "[encoded data removed]",
      "text/plain": [
       "<PIL.Image.Image image mode=RGB size=128x72>"
      ]
     },
     "execution_count": 32,
     "metadata": {},
     "output_type": "execute_result"
    }
   ],
   "source": [
    "img = Image.open(f'images/mig-31.jpg')\n",
    "img.to_thumb(128,128)"
   ]
  },
  {
   "cell_type": "code",
   "execution_count": 33,
   "metadata": {
    "colab": {
     "base_uri": "https://localhost:8080/",
     "height": 121
    },
    "executionInfo": {
     "elapsed": 33,
     "status": "ok",
     "timestamp": 1672933426352,
     "user": {
      "displayName": "MSI",
      "userId": "13207606968035913219"
     },
     "user_tz": -360
    },
    "id": "Qblxq0aATduB",
    "outputId": "5b521b03-91df-4ebb-9a1a-c25d061953a1"
   },
   "outputs": [
    {
     "data": {
      "text/html": [
       "\n",
       "<style>\n",
       "    /* Turns off some styling */\n",
       "    progress {\n",
       "        /* gets rid of default border in Firefox and Opera. */\n",
       "        border: none;\n",
       "        /* Needs to be in here for Safari polyfill so background images work as expected. */\n",
       "        background-size: auto;\n",
       "    }\n",
       "    progress:not([value]), progress:not([value])::-webkit-progress-bar {\n",
       "        background: repeating-linear-gradient(45deg, #7e7e7e, #7e7e7e 10px, #5c5c5c 10px, #5c5c5c 20px);\n",
       "    }\n",
       "    .progress-bar-interrupted, .progress-bar-interrupted::-webkit-progress-bar {\n",
       "        background: #F44336;\n",
       "    }\n",
       "</style>\n"
      ],
      "text/plain": [
       "<IPython.core.display.HTML object>"
      ]
     },
     "metadata": {},
     "output_type": "display_data"
    },
    {
     "data": {
      "text/html": [],
      "text/plain": [
       "<IPython.core.display.HTML object>"
      ]
     },
     "metadata": {},
     "output_type": "display_data"
    },
    {
     "data": {
      "text/plain": [
       "('Mikoyan Mig-31',\n",
       " tensor(17),\n",
       " tensor([3.2876e-04, 1.1436e-03, 1.5866e-06, 3.7597e-06, 2.9581e-05, 9.9900e-06,\n",
       "         1.3913e-05, 7.1368e-06, 1.8321e-04, 1.6324e-04, 2.0130e-06, 8.5997e-07,\n",
       "         4.9902e-06, 4.8624e-05, 7.8561e-06, 6.7489e-05, 8.7269e-03, 9.7399e-01,\n",
       "         3.6181e-04, 1.4099e-06, 1.5585e-03, 1.3327e-02, 1.6584e-05]))"
      ]
     },
     "execution_count": 33,
     "metadata": {},
     "output_type": "execute_result"
    }
   ],
   "source": [
    "model.predict(f'mig-31.jpg')"
   ]
  },
  {
   "cell_type": "code",
   "execution_count": null,
   "metadata": {},
   "outputs": [],
   "source": []
  }
 ],
 "metadata": {
  "colab": {
   "authorship_tag": "ABX9TyP8qU/UwCTL5O4nRhyY2Ie5",
   "provenance": []
  },
  "kernelspec": {
   "display_name": "Python 3 (ipykernel)",
   "language": "python",
   "name": "python3"
  },
  "language_info": {
   "codemirror_mode": {
    "name": "ipython",
    "version": 3
   },
   "file_extension": ".py",
   "mimetype": "text/x-python",
   "name": "python",
   "nbconvert_exporter": "python",
   "pygments_lexer": "ipython3",
   "version": "3.9.16"
  }
 },
 "nbformat": 4,
 "nbformat_minor": 1
}
